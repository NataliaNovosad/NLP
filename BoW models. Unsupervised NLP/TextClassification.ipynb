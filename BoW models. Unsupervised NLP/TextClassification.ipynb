{
 "cells": [
  {
   "cell_type": "code",
   "execution_count": 2,
   "metadata": {},
   "outputs": [],
   "source": [
    "import json\n",
    "import os\n",
    "\n",
    "import numpy as np\n",
    "import pandas as pd\n",
    "\n",
    "import matplotlib.pyplot as plt\n",
    "plt.style.use('ggplot')\n",
    "\n",
    "from tokenize_uk import tokenize_words\n",
    "\n",
    "from sklearn.model_selection import train_test_split\n",
    "from sklearn.linear_model import LogisticRegression\n",
    "from sklearn.model_selection import GridSearchCV\n",
    "\n",
    "from sklearn.feature_extraction.text import CountVectorizer, TfidfVectorizer\n",
    "from sklearn.metrics import classification_report"
   ]
  },
  {
   "cell_type": "markdown",
   "metadata": {},
   "source": [
    "### Import corpus"
   ]
  },
  {
   "cell_type": "code",
   "execution_count": 3,
   "metadata": {},
   "outputs": [],
   "source": [
    "texts = []\n",
    "targets = []\n",
    "for file in os.listdir(\"1551/json\"):\n",
    "    with open(\"1551/json/\" + file) as f:\n",
    "        j = json.load(f)\n",
    "        texts.append(j[0][\"CallZText\"])\n",
    "        targets.append(j[0][\"CallZType\"])"
   ]
  },
  {
   "cell_type": "code",
   "execution_count": 4,
   "metadata": {},
   "outputs": [
    {
     "data": {
      "text/plain": [
       "(127329, 127329)"
      ]
     },
     "execution_count": 4,
     "metadata": {},
     "output_type": "execute_result"
    }
   ],
   "source": [
    "targets = pd.Series(targets)\n",
    "texts = pd.Series(texts)\n",
    "len(texts),len(targets)"
   ]
  },
  {
   "cell_type": "code",
   "execution_count": 5,
   "metadata": {},
   "outputs": [
    {
     "data": {
      "text/plain": [
       "(61537, 61537)"
      ]
     },
     "execution_count": 5,
     "metadata": {},
     "output_type": "execute_result"
    }
   ],
   "source": [
    "# get only 20 biggest categories for target\n",
    "top20 = targets.value_counts()[:20].index\n",
    "texts_top20 = texts[targets.isin(top20)]\n",
    "targets_top20 = targets[targets.isin(top20)]\n",
    "len(texts_top20),len(targets_top20)"
   ]
  },
  {
   "cell_type": "code",
   "execution_count": 6,
   "metadata": {},
   "outputs": [],
   "source": [
    "X_train, X_test, y_train, y_test = train_test_split(texts_top20, targets_top20, test_size = 0.2, random_state = 42)"
   ]
  },
  {
   "cell_type": "code",
   "execution_count": 7,
   "metadata": {},
   "outputs": [
    {
     "data": {
      "text/plain": [
       "(20, 20)"
      ]
     },
     "execution_count": 7,
     "metadata": {},
     "output_type": "execute_result"
    }
   ],
   "source": [
    "y_train.nunique(), y_test.nunique()"
   ]
  },
  {
   "cell_type": "markdown",
   "metadata": {},
   "source": [
    "# First model: CountVectorizer + LogisticRegression"
   ]
  },
  {
   "cell_type": "markdown",
   "metadata": {},
   "source": [
    "### Vectorization"
   ]
  },
  {
   "cell_type": "code",
   "execution_count": 8,
   "metadata": {},
   "outputs": [],
   "source": [
    "vectorizer = CountVectorizer(tokenizer = tokenize_words)\n",
    "X_train_transformed = vectorizer.fit_transform(X_train)\n",
    "X_test_transformed = vectorizer.transform(X_test)"
   ]
  },
  {
   "cell_type": "code",
   "execution_count": 9,
   "metadata": {},
   "outputs": [
    {
     "data": {
      "text/plain": [
       "(49229, 134852)"
      ]
     },
     "execution_count": 9,
     "metadata": {},
     "output_type": "execute_result"
    }
   ],
   "source": [
    "X_train_transformed.shape"
   ]
  },
  {
   "cell_type": "markdown",
   "metadata": {},
   "source": [
    "### Classification"
   ]
  },
  {
   "cell_type": "code",
   "execution_count": 17,
   "metadata": {
    "collapsed": true,
    "jupyter": {
     "outputs_hidden": true
    }
   },
   "outputs": [
    {
     "name": "stderr",
     "output_type": "stream",
     "text": [
      "/home/nata/PycharmProjects/UCU/NLP/nlp_env/lib/python3.8/site-packages/sklearn/linear_model/_logistic.py:762: ConvergenceWarning: lbfgs failed to converge (status=1):\n",
      "STOP: TOTAL NO. of ITERATIONS REACHED LIMIT.\n",
      "\n",
      "Increase the number of iterations (max_iter) or scale the data as shown in:\n",
      "    https://scikit-learn.org/stable/modules/preprocessing.html\n",
      "Please also refer to the documentation for alternative solver options:\n",
      "    https://scikit-learn.org/stable/modules/linear_model.html#logistic-regression\n",
      "  n_iter_i = _check_optimize_result(\n",
      "/home/nata/PycharmProjects/UCU/NLP/nlp_env/lib/python3.8/site-packages/sklearn/linear_model/_logistic.py:762: ConvergenceWarning: lbfgs failed to converge (status=1):\n",
      "STOP: TOTAL NO. of ITERATIONS REACHED LIMIT.\n",
      "\n",
      "Increase the number of iterations (max_iter) or scale the data as shown in:\n",
      "    https://scikit-learn.org/stable/modules/preprocessing.html\n",
      "Please also refer to the documentation for alternative solver options:\n",
      "    https://scikit-learn.org/stable/modules/linear_model.html#logistic-regression\n",
      "  n_iter_i = _check_optimize_result(\n",
      "/home/nata/PycharmProjects/UCU/NLP/nlp_env/lib/python3.8/site-packages/sklearn/linear_model/_logistic.py:762: ConvergenceWarning: lbfgs failed to converge (status=1):\n",
      "STOP: TOTAL NO. of ITERATIONS REACHED LIMIT.\n",
      "\n",
      "Increase the number of iterations (max_iter) or scale the data as shown in:\n",
      "    https://scikit-learn.org/stable/modules/preprocessing.html\n",
      "Please also refer to the documentation for alternative solver options:\n",
      "    https://scikit-learn.org/stable/modules/linear_model.html#logistic-regression\n",
      "  n_iter_i = _check_optimize_result(\n",
      "/home/nata/PycharmProjects/UCU/NLP/nlp_env/lib/python3.8/site-packages/sklearn/linear_model/_logistic.py:762: ConvergenceWarning: lbfgs failed to converge (status=1):\n",
      "STOP: TOTAL NO. of ITERATIONS REACHED LIMIT.\n",
      "\n",
      "Increase the number of iterations (max_iter) or scale the data as shown in:\n",
      "    https://scikit-learn.org/stable/modules/preprocessing.html\n",
      "Please also refer to the documentation for alternative solver options:\n",
      "    https://scikit-learn.org/stable/modules/linear_model.html#logistic-regression\n",
      "  n_iter_i = _check_optimize_result(\n",
      "/home/nata/PycharmProjects/UCU/NLP/nlp_env/lib/python3.8/site-packages/sklearn/linear_model/_logistic.py:762: ConvergenceWarning: lbfgs failed to converge (status=1):\n",
      "STOP: TOTAL NO. of ITERATIONS REACHED LIMIT.\n",
      "\n",
      "Increase the number of iterations (max_iter) or scale the data as shown in:\n",
      "    https://scikit-learn.org/stable/modules/preprocessing.html\n",
      "Please also refer to the documentation for alternative solver options:\n",
      "    https://scikit-learn.org/stable/modules/linear_model.html#logistic-regression\n",
      "  n_iter_i = _check_optimize_result(\n",
      "/home/nata/PycharmProjects/UCU/NLP/nlp_env/lib/python3.8/site-packages/sklearn/linear_model/_logistic.py:762: ConvergenceWarning: lbfgs failed to converge (status=1):\n",
      "STOP: TOTAL NO. of ITERATIONS REACHED LIMIT.\n",
      "\n",
      "Increase the number of iterations (max_iter) or scale the data as shown in:\n",
      "    https://scikit-learn.org/stable/modules/preprocessing.html\n",
      "Please also refer to the documentation for alternative solver options:\n",
      "    https://scikit-learn.org/stable/modules/linear_model.html#logistic-regression\n",
      "  n_iter_i = _check_optimize_result(\n",
      "/home/nata/PycharmProjects/UCU/NLP/nlp_env/lib/python3.8/site-packages/sklearn/linear_model/_logistic.py:762: ConvergenceWarning: lbfgs failed to converge (status=1):\n",
      "STOP: TOTAL NO. of ITERATIONS REACHED LIMIT.\n",
      "\n",
      "Increase the number of iterations (max_iter) or scale the data as shown in:\n",
      "    https://scikit-learn.org/stable/modules/preprocessing.html\n",
      "Please also refer to the documentation for alternative solver options:\n",
      "    https://scikit-learn.org/stable/modules/linear_model.html#logistic-regression\n",
      "  n_iter_i = _check_optimize_result(\n",
      "/home/nata/PycharmProjects/UCU/NLP/nlp_env/lib/python3.8/site-packages/sklearn/linear_model/_logistic.py:762: ConvergenceWarning: lbfgs failed to converge (status=1):\n",
      "STOP: TOTAL NO. of ITERATIONS REACHED LIMIT.\n",
      "\n",
      "Increase the number of iterations (max_iter) or scale the data as shown in:\n",
      "    https://scikit-learn.org/stable/modules/preprocessing.html\n",
      "Please also refer to the documentation for alternative solver options:\n",
      "    https://scikit-learn.org/stable/modules/linear_model.html#logistic-regression\n",
      "  n_iter_i = _check_optimize_result(\n",
      "/home/nata/PycharmProjects/UCU/NLP/nlp_env/lib/python3.8/site-packages/sklearn/linear_model/_logistic.py:762: ConvergenceWarning: lbfgs failed to converge (status=1):\n",
      "STOP: TOTAL NO. of ITERATIONS REACHED LIMIT.\n",
      "\n",
      "Increase the number of iterations (max_iter) or scale the data as shown in:\n",
      "    https://scikit-learn.org/stable/modules/preprocessing.html\n",
      "Please also refer to the documentation for alternative solver options:\n",
      "    https://scikit-learn.org/stable/modules/linear_model.html#logistic-regression\n",
      "  n_iter_i = _check_optimize_result(\n",
      "/home/nata/PycharmProjects/UCU/NLP/nlp_env/lib/python3.8/site-packages/sklearn/linear_model/_logistic.py:762: ConvergenceWarning: lbfgs failed to converge (status=1):\n",
      "STOP: TOTAL NO. of ITERATIONS REACHED LIMIT.\n",
      "\n",
      "Increase the number of iterations (max_iter) or scale the data as shown in:\n",
      "    https://scikit-learn.org/stable/modules/preprocessing.html\n",
      "Please also refer to the documentation for alternative solver options:\n",
      "    https://scikit-learn.org/stable/modules/linear_model.html#logistic-regression\n",
      "  n_iter_i = _check_optimize_result(\n",
      "/home/nata/PycharmProjects/UCU/NLP/nlp_env/lib/python3.8/site-packages/sklearn/linear_model/_logistic.py:762: ConvergenceWarning: lbfgs failed to converge (status=1):\n",
      "STOP: TOTAL NO. of ITERATIONS REACHED LIMIT.\n",
      "\n",
      "Increase the number of iterations (max_iter) or scale the data as shown in:\n",
      "    https://scikit-learn.org/stable/modules/preprocessing.html\n",
      "Please also refer to the documentation for alternative solver options:\n",
      "    https://scikit-learn.org/stable/modules/linear_model.html#logistic-regression\n",
      "  n_iter_i = _check_optimize_result(\n",
      "/home/nata/PycharmProjects/UCU/NLP/nlp_env/lib/python3.8/site-packages/sklearn/linear_model/_logistic.py:762: ConvergenceWarning: lbfgs failed to converge (status=1):\n",
      "STOP: TOTAL NO. of ITERATIONS REACHED LIMIT.\n",
      "\n",
      "Increase the number of iterations (max_iter) or scale the data as shown in:\n",
      "    https://scikit-learn.org/stable/modules/preprocessing.html\n",
      "Please also refer to the documentation for alternative solver options:\n",
      "    https://scikit-learn.org/stable/modules/linear_model.html#logistic-regression\n",
      "  n_iter_i = _check_optimize_result(\n",
      "/home/nata/PycharmProjects/UCU/NLP/nlp_env/lib/python3.8/site-packages/sklearn/linear_model/_logistic.py:762: ConvergenceWarning: lbfgs failed to converge (status=1):\n",
      "STOP: TOTAL NO. of ITERATIONS REACHED LIMIT.\n",
      "\n",
      "Increase the number of iterations (max_iter) or scale the data as shown in:\n",
      "    https://scikit-learn.org/stable/modules/preprocessing.html\n",
      "Please also refer to the documentation for alternative solver options:\n",
      "    https://scikit-learn.org/stable/modules/linear_model.html#logistic-regression\n",
      "  n_iter_i = _check_optimize_result(\n",
      "/home/nata/PycharmProjects/UCU/NLP/nlp_env/lib/python3.8/site-packages/sklearn/linear_model/_logistic.py:762: ConvergenceWarning: lbfgs failed to converge (status=1):\n",
      "STOP: TOTAL NO. of ITERATIONS REACHED LIMIT.\n",
      "\n",
      "Increase the number of iterations (max_iter) or scale the data as shown in:\n",
      "    https://scikit-learn.org/stable/modules/preprocessing.html\n",
      "Please also refer to the documentation for alternative solver options:\n",
      "    https://scikit-learn.org/stable/modules/linear_model.html#logistic-regression\n",
      "  n_iter_i = _check_optimize_result(\n",
      "/home/nata/PycharmProjects/UCU/NLP/nlp_env/lib/python3.8/site-packages/sklearn/linear_model/_logistic.py:762: ConvergenceWarning: lbfgs failed to converge (status=1):\n",
      "STOP: TOTAL NO. of ITERATIONS REACHED LIMIT.\n",
      "\n",
      "Increase the number of iterations (max_iter) or scale the data as shown in:\n",
      "    https://scikit-learn.org/stable/modules/preprocessing.html\n",
      "Please also refer to the documentation for alternative solver options:\n",
      "    https://scikit-learn.org/stable/modules/linear_model.html#logistic-regression\n",
      "  n_iter_i = _check_optimize_result(\n",
      "/home/nata/PycharmProjects/UCU/NLP/nlp_env/lib/python3.8/site-packages/sklearn/linear_model/_logistic.py:762: ConvergenceWarning: lbfgs failed to converge (status=1):\n",
      "STOP: TOTAL NO. of ITERATIONS REACHED LIMIT.\n",
      "\n",
      "Increase the number of iterations (max_iter) or scale the data as shown in:\n",
      "    https://scikit-learn.org/stable/modules/preprocessing.html\n",
      "Please also refer to the documentation for alternative solver options:\n",
      "    https://scikit-learn.org/stable/modules/linear_model.html#logistic-regression\n",
      "  n_iter_i = _check_optimize_result(\n",
      "/home/nata/PycharmProjects/UCU/NLP/nlp_env/lib/python3.8/site-packages/sklearn/linear_model/_logistic.py:762: ConvergenceWarning: lbfgs failed to converge (status=1):\n",
      "STOP: TOTAL NO. of ITERATIONS REACHED LIMIT.\n",
      "\n",
      "Increase the number of iterations (max_iter) or scale the data as shown in:\n",
      "    https://scikit-learn.org/stable/modules/preprocessing.html\n",
      "Please also refer to the documentation for alternative solver options:\n",
      "    https://scikit-learn.org/stable/modules/linear_model.html#logistic-regression\n",
      "  n_iter_i = _check_optimize_result(\n",
      "/home/nata/PycharmProjects/UCU/NLP/nlp_env/lib/python3.8/site-packages/sklearn/linear_model/_logistic.py:762: ConvergenceWarning: lbfgs failed to converge (status=1):\n",
      "STOP: TOTAL NO. of ITERATIONS REACHED LIMIT.\n",
      "\n",
      "Increase the number of iterations (max_iter) or scale the data as shown in:\n",
      "    https://scikit-learn.org/stable/modules/preprocessing.html\n",
      "Please also refer to the documentation for alternative solver options:\n",
      "    https://scikit-learn.org/stable/modules/linear_model.html#logistic-regression\n",
      "  n_iter_i = _check_optimize_result(\n",
      "/home/nata/PycharmProjects/UCU/NLP/nlp_env/lib/python3.8/site-packages/sklearn/linear_model/_logistic.py:762: ConvergenceWarning: lbfgs failed to converge (status=1):\n",
      "STOP: TOTAL NO. of ITERATIONS REACHED LIMIT.\n",
      "\n",
      "Increase the number of iterations (max_iter) or scale the data as shown in:\n",
      "    https://scikit-learn.org/stable/modules/preprocessing.html\n",
      "Please also refer to the documentation for alternative solver options:\n",
      "    https://scikit-learn.org/stable/modules/linear_model.html#logistic-regression\n",
      "  n_iter_i = _check_optimize_result(\n"
     ]
    },
    {
     "data": {
      "text/plain": [
       "GridSearchCV(cv=3, estimator=LogisticRegression(),\n",
       "             param_grid={'C': [1, 0.8, 0.5],\n",
       "                         'class_weight': ('balanced', None)})"
      ]
     },
     "execution_count": 17,
     "metadata": {},
     "output_type": "execute_result"
    }
   ],
   "source": [
    "parameters = {'class_weight':('balanced', None), 'C':[1, 0.8, 0.5]}\n",
    "lr = LogisticRegression()\n",
    "clf = GridSearchCV(lr, parameters, cv = 3)\n",
    "clf.fit(X_train_transformed, y_train)"
   ]
  },
  {
   "cell_type": "code",
   "execution_count": 19,
   "metadata": {},
   "outputs": [
    {
     "data": {
      "text/plain": [
       "{'C': 1, 'class_weight': None}"
      ]
     },
     "execution_count": 19,
     "metadata": {},
     "output_type": "execute_result"
    }
   ],
   "source": [
    "clf.best_params_"
   ]
  },
  {
   "cell_type": "code",
   "execution_count": 20,
   "metadata": {},
   "outputs": [
    {
     "name": "stderr",
     "output_type": "stream",
     "text": [
      "/home/nata/PycharmProjects/UCU/NLP/nlp_env/lib/python3.8/site-packages/sklearn/linear_model/_logistic.py:762: ConvergenceWarning: lbfgs failed to converge (status=1):\n",
      "STOP: TOTAL NO. of ITERATIONS REACHED LIMIT.\n",
      "\n",
      "Increase the number of iterations (max_iter) or scale the data as shown in:\n",
      "    https://scikit-learn.org/stable/modules/preprocessing.html\n",
      "Please also refer to the documentation for alternative solver options:\n",
      "    https://scikit-learn.org/stable/modules/linear_model.html#logistic-regression\n",
      "  n_iter_i = _check_optimize_result(\n"
     ]
    },
    {
     "data": {
      "text/plain": [
       "LogisticRegression()"
      ]
     },
     "execution_count": 20,
     "metadata": {},
     "output_type": "execute_result"
    }
   ],
   "source": [
    "lr = LogisticRegression()\n",
    "lr.fit(X_train_transformed, y_train)"
   ]
  },
  {
   "cell_type": "code",
   "execution_count": 21,
   "metadata": {},
   "outputs": [
    {
     "name": "stdout",
     "output_type": "stream",
     "text": [
      "                                                                                  precision    recall  f1-score   support\n",
      "\n",
      "                                              Інші технічні недоліки стану ліфту       0.73      0.68      0.71       276\n",
      "Відновлення благоустрою після вик. планових,аварійних робіт на об’єктах благоуст       0.75      0.66      0.70       485\n",
      "                                                                    Відсутнє ХВП       0.86      0.80      0.83       305\n",
      "                                                                 Відсутність ГВП       0.89      0.91      0.90      2659\n",
      "                                                            Відсутність опалення       0.80      0.85      0.83      1241\n",
      "                                                  Відсутність опалення по стояку       0.72      0.65      0.68       369\n",
      "          Відсутність освітлення у під’їзді за відсутності/несправності лампочок       0.68      0.76      0.72       544\n",
      "                                                   ГЛ ”Несанкціонована торгівля”       0.88      0.78      0.83       289\n",
      "                                                     Не працює пасажирський ліфт       0.85      0.87      0.86       548\n",
      "                                                    Незадовільна температура ГВП       0.73      0.71      0.72       440\n",
      "                                               Незадовільна температура опалення       0.77      0.67      0.72       275\n",
      "                                     Освітлення в приміщенні й при вході в нього       0.56      0.41      0.48       340\n",
      "                     Перевірка дозвільної документації, демонтаж кіосків, ларків       0.92      0.92      0.92       720\n",
      "        Перерахунок та нарахування плати за інші види житлово-комунальних послуг       0.81      0.78      0.80       372\n",
      "                                                            Прибирання приміщень       0.86      0.76      0.81       331\n",
      "                                         Прибирання та санітарний стан територій       0.82      0.87      0.84       588\n",
      "                                                   Про розгляд звернень громадян       0.61      0.62      0.62       316\n",
      "                                                                Ремонт під’їзду;       0.88      0.87      0.88       470\n",
      "                             Технічний стан проїжджих частин вулиць та тротуарів       0.64      0.55      0.59       433\n",
      "                                        Укладання та ремонт асфальтного покриття       0.74      0.84      0.79      1307\n",
      "\n",
      "                                                                        accuracy                           0.80     12308\n",
      "                                                                       macro avg       0.78      0.75      0.76     12308\n",
      "                                                                    weighted avg       0.80      0.80      0.80     12308\n",
      "\n"
     ]
    }
   ],
   "source": [
    "test_preds = lr.predict(X_test_transformed)\n",
    "print(classification_report(y_test, test_preds))"
   ]
  },
  {
   "cell_type": "code",
   "execution_count": 22,
   "metadata": {},
   "outputs": [
    {
     "name": "stdout",
     "output_type": "stream",
     "text": [
      "                                                                                  precision    recall  f1-score   support\n",
      "\n",
      "                                              Інші технічні недоліки стану ліфту       0.97      0.95      0.96      1174\n",
      "Відновлення благоустрою після вик. планових,аварійних робіт на об’єктах благоуст       0.95      0.92      0.94      1908\n",
      "                                                                    Відсутнє ХВП       0.95      0.92      0.94      1257\n",
      "                                                                 Відсутність ГВП       0.96      0.97      0.96     10614\n",
      "                                                            Відсутність опалення       0.91      0.95      0.93      4779\n",
      "                                                  Відсутність опалення по стояку       0.95      0.86      0.90      1680\n",
      "          Відсутність освітлення у під’їзді за відсутності/несправності лампочок       0.87      0.94      0.90      2093\n",
      "                                                   ГЛ ”Несанкціонована торгівля”       0.99      0.97      0.98      1146\n",
      "                                                     Не працює пасажирський ліфт       0.97      0.98      0.98      2170\n",
      "                                                    Незадовільна температура ГВП       0.93      0.90      0.92      1864\n",
      "                                               Незадовільна температура опалення       0.96      0.89      0.92      1066\n",
      "                                     Освітлення в приміщенні й при вході в нього       0.91      0.77      0.84      1319\n",
      "                     Перевірка дозвільної документації, демонтаж кіосків, ларків       0.99      0.98      0.99      2934\n",
      "        Перерахунок та нарахування плати за інші види житлово-комунальних послуг       0.98      0.95      0.96      1524\n",
      "                                                            Прибирання приміщень       0.96      0.95      0.95      1229\n",
      "                                         Прибирання та санітарний стан територій       0.95      0.97      0.96      2496\n",
      "                                                   Про розгляд звернень громадян       0.96      0.89      0.92      1278\n",
      "                                                                Ремонт під’їзду;       0.97      0.97      0.97      1626\n",
      "                             Технічний стан проїжджих частин вулиць та тротуарів       0.94      0.85      0.89      1747\n",
      "                                        Укладання та ремонт асфальтного покриття       0.90      0.97      0.93      5325\n",
      "\n",
      "                                                                        accuracy                           0.94     49229\n",
      "                                                                       macro avg       0.95      0.93      0.94     49229\n",
      "                                                                    weighted avg       0.94      0.94      0.94     49229\n",
      "\n"
     ]
    }
   ],
   "source": [
    "train_preds = lr.predict(X_train_transformed)\n",
    "print(classification_report(y_train, train_preds))"
   ]
  },
  {
   "cell_type": "markdown",
   "metadata": {},
   "source": [
    "The baseline for the accuracy is 80%."
   ]
  },
  {
   "cell_type": "markdown",
   "metadata": {},
   "source": [
    "## Model improvement"
   ]
  },
  {
   "cell_type": "markdown",
   "metadata": {},
   "source": [
    "Let's try to add the next modifications:\n",
    "\n",
    "- use TFIDF instead of Counting\n",
    "- check the influence of stemming and lemmatization\n",
    "- delete stopwords\n",
    "- use bigrams and trigrams"
   ]
  },
  {
   "cell_type": "markdown",
   "metadata": {},
   "source": [
    "The list of stop words: https://github.com/skupriienko/Ukrainian-Stopwords\n",
    "\n",
    "Stemmer: https://github.com/Desklop/Uk_Stemmer"
   ]
  },
  {
   "cell_type": "code",
   "execution_count": 160,
   "metadata": {},
   "outputs": [],
   "source": [
    "with open(\"stopwords_ua.txt\", \"r\") as f:\n",
    "    stopwords = f.read().splitlines()"
   ]
  },
  {
   "cell_type": "code",
   "execution_count": 177,
   "metadata": {},
   "outputs": [],
   "source": [
    "import pymorphy2\n",
    "from stemmer import UkStemmer\n",
    "morph = pymorphy2.MorphAnalyzer(lang='uk')\n",
    "stemmer = UkStemmer()\n",
    "\n",
    "def my_tokenizer_lemma(sent):\n",
    "    tokens = tokenize_words(sent)\n",
    "    lemmas = [morph.parse(w)[0].normal_form for w in tokens]\n",
    "    clean_lemmas = [w for w in lemmas if w not in stopwords]\n",
    "    return clean_lemmas\n",
    "\n",
    "def my_tokenizer_stemm(sent):\n",
    "    tokens = tokenize_words(sent)\n",
    "    stems = [stemmer.stem_word(w) for w in tokens]\n",
    "    clean_stems = [w for w in stems if w not in stopwords]\n",
    "    return clean_stems"
   ]
  },
  {
   "cell_type": "code",
   "execution_count": 179,
   "metadata": {},
   "outputs": [
    {
     "name": "stdout",
     "output_type": "stream",
     "text": [
      "CPU times: user 9min 38s, sys: 1.88 s, total: 9min 40s\n",
      "Wall time: 9min 48s\n"
     ]
    }
   ],
   "source": [
    "%%time\n",
    "tfidf_vectorizer = TfidfVectorizer(tokenizer = my_tokenizer_lemma, ngram_range = (1,3), max_features = 200000)\n",
    "X_train_transformed = tfidf_vectorizer.fit_transform(X_train)\n",
    "X_test_transformed = tfidf_vectorizer.transform(X_test)"
   ]
  },
  {
   "cell_type": "code",
   "execution_count": 180,
   "metadata": {},
   "outputs": [
    {
     "name": "stderr",
     "output_type": "stream",
     "text": [
      "/home/nata/PycharmProjects/UCU/NLP/nlp_env/lib/python3.8/site-packages/sklearn/linear_model/_logistic.py:762: ConvergenceWarning: lbfgs failed to converge (status=1):\n",
      "STOP: TOTAL NO. of ITERATIONS REACHED LIMIT.\n",
      "\n",
      "Increase the number of iterations (max_iter) or scale the data as shown in:\n",
      "    https://scikit-learn.org/stable/modules/preprocessing.html\n",
      "Please also refer to the documentation for alternative solver options:\n",
      "    https://scikit-learn.org/stable/modules/linear_model.html#logistic-regression\n",
      "  n_iter_i = _check_optimize_result(\n"
     ]
    },
    {
     "name": "stdout",
     "output_type": "stream",
     "text": [
      "                                                                                  precision    recall  f1-score   support\n",
      "\n",
      "                                              Інші технічні недоліки стану ліфту       0.82      0.64      0.72       276\n",
      "Відновлення благоустрою після вик. планових,аварійних робіт на об’єктах благоуст       0.85      0.58      0.69       485\n",
      "                                                                    Відсутнє ХВП       0.92      0.64      0.76       305\n",
      "                                                                 Відсутність ГВП       0.84      0.95      0.89      2659\n",
      "                                                            Відсутність опалення       0.80      0.86      0.83      1241\n",
      "                                                  Відсутність опалення по стояку       0.74      0.59      0.66       369\n",
      "          Відсутність освітлення у під’їзді за відсутності/несправності лампочок       0.67      0.88      0.76       544\n",
      "                                                   ГЛ ”Несанкціонована торгівля”       0.91      0.76      0.83       289\n",
      "                                                     Не працює пасажирський ліфт       0.84      0.91      0.88       548\n",
      "                                                    Незадовільна температура ГВП       0.83      0.63      0.72       440\n",
      "                                               Незадовільна температура опалення       0.83      0.61      0.70       275\n",
      "                                     Освітлення в приміщенні й при вході в нього       0.71      0.32      0.45       340\n",
      "                     Перевірка дозвільної документації, демонтаж кіосків, ларків       0.89      0.94      0.92       720\n",
      "        Перерахунок та нарахування плати за інші види житлово-комунальних послуг       0.87      0.75      0.80       372\n",
      "                                                            Прибирання приміщень       0.88      0.76      0.82       331\n",
      "                                         Прибирання та санітарний стан територій       0.84      0.87      0.85       588\n",
      "                                                   Про розгляд звернень громадян       0.69      0.57      0.63       316\n",
      "                                                                Ремонт під’їзду;       0.91      0.87      0.89       470\n",
      "                             Технічний стан проїжджих частин вулиць та тротуарів       0.74      0.45      0.56       433\n",
      "                                        Укладання та ремонт асфальтного покриття       0.70      0.91      0.79      1307\n",
      "\n",
      "                                                                        accuracy                           0.81     12308\n",
      "                                                                       macro avg       0.81      0.73      0.76     12308\n",
      "                                                                    weighted avg       0.81      0.81      0.80     12308\n",
      "\n"
     ]
    }
   ],
   "source": [
    "lr = LogisticRegression()\n",
    "lr.fit(X_train_transformed, y_train)\n",
    "test_preds = lr.predict(X_test_transformed)\n",
    "print(classification_report(y_test, test_preds))"
   ]
  },
  {
   "cell_type": "code",
   "execution_count": 181,
   "metadata": {},
   "outputs": [
    {
     "name": "stdout",
     "output_type": "stream",
     "text": [
      "CPU times: user 4min 42s, sys: 1.09 s, total: 4min 44s\n",
      "Wall time: 6min 10s\n"
     ]
    }
   ],
   "source": [
    "%%time\n",
    "tfidf_vectorizer = TfidfVectorizer(tokenizer = my_tokenizer_stemm, ngram_range = (1,3), max_features = 200000)\n",
    "X_train_transformed = tfidf_vectorizer.fit_transform(X_train)\n",
    "X_test_transformed = tfidf_vectorizer.transform(X_test)"
   ]
  },
  {
   "cell_type": "code",
   "execution_count": 182,
   "metadata": {},
   "outputs": [
    {
     "name": "stderr",
     "output_type": "stream",
     "text": [
      "/home/nata/PycharmProjects/UCU/NLP/nlp_env/lib/python3.8/site-packages/sklearn/linear_model/_logistic.py:762: ConvergenceWarning: lbfgs failed to converge (status=1):\n",
      "STOP: TOTAL NO. of ITERATIONS REACHED LIMIT.\n",
      "\n",
      "Increase the number of iterations (max_iter) or scale the data as shown in:\n",
      "    https://scikit-learn.org/stable/modules/preprocessing.html\n",
      "Please also refer to the documentation for alternative solver options:\n",
      "    https://scikit-learn.org/stable/modules/linear_model.html#logistic-regression\n",
      "  n_iter_i = _check_optimize_result(\n"
     ]
    },
    {
     "name": "stdout",
     "output_type": "stream",
     "text": [
      "                                                                                  precision    recall  f1-score   support\n",
      "\n",
      "                                              Інші технічні недоліки стану ліфту       0.86      0.66      0.75       276\n",
      "Відновлення благоустрою після вик. планових,аварійних робіт на об’єктах благоуст       0.84      0.61      0.70       485\n",
      "                                                                    Відсутнє ХВП       0.88      0.69      0.77       305\n",
      "                                                                 Відсутність ГВП       0.85      0.95      0.90      2659\n",
      "                                                            Відсутність опалення       0.81      0.87      0.84      1241\n",
      "                                                  Відсутність опалення по стояку       0.77      0.60      0.67       369\n",
      "          Відсутність освітлення у під’їзді за відсутності/несправності лампочок       0.68      0.89      0.77       544\n",
      "                                                   ГЛ ”Несанкціонована торгівля”       0.90      0.78      0.83       289\n",
      "                                                     Не працює пасажирський ліфт       0.85      0.93      0.89       548\n",
      "                                                    Незадовільна температура ГВП       0.82      0.66      0.73       440\n",
      "                                               Незадовільна температура опалення       0.85      0.64      0.73       275\n",
      "                                     Освітлення в приміщенні й при вході в нього       0.75      0.34      0.47       340\n",
      "                     Перевірка дозвільної документації, демонтаж кіосків, ларків       0.90      0.93      0.92       720\n",
      "        Перерахунок та нарахування плати за інші види житлово-комунальних послуг       0.88      0.76      0.82       372\n",
      "                                                            Прибирання приміщень       0.89      0.77      0.83       331\n",
      "                                         Прибирання та санітарний стан територій       0.84      0.87      0.85       588\n",
      "                                                   Про розгляд звернень громадян       0.67      0.59      0.62       316\n",
      "                                                                Ремонт під’їзду;       0.91      0.89      0.90       470\n",
      "                             Технічний стан проїжджих частин вулиць та тротуарів       0.73      0.45      0.56       433\n",
      "                                        Укладання та ремонт асфальтного покриття       0.71      0.91      0.80      1307\n",
      "\n",
      "                                                                        accuracy                           0.81     12308\n",
      "                                                                       macro avg       0.82      0.74      0.77     12308\n",
      "                                                                    weighted avg       0.82      0.81      0.81     12308\n",
      "\n"
     ]
    }
   ],
   "source": [
    "lr = LogisticRegression()\n",
    "lr.fit(X_train_transformed, y_train)\n",
    "test_preds = lr.predict(X_test_transformed)\n",
    "print(classification_report(y_test, test_preds))"
   ]
  },
  {
   "cell_type": "markdown",
   "metadata": {},
   "source": [
    "Since the accuracy is the same, but the macro avg is a little bigger, I will use the stemmer. Now do the same experiment with max_features"
   ]
  },
  {
   "cell_type": "code",
   "execution_count": 183,
   "metadata": {},
   "outputs": [
    {
     "name": "stderr",
     "output_type": "stream",
     "text": [
      "/home/nata/PycharmProjects/UCU/NLP/nlp_env/lib/python3.8/site-packages/sklearn/linear_model/_logistic.py:762: ConvergenceWarning: lbfgs failed to converge (status=1):\n",
      "STOP: TOTAL NO. of ITERATIONS REACHED LIMIT.\n",
      "\n",
      "Increase the number of iterations (max_iter) or scale the data as shown in:\n",
      "    https://scikit-learn.org/stable/modules/preprocessing.html\n",
      "Please also refer to the documentation for alternative solver options:\n",
      "    https://scikit-learn.org/stable/modules/linear_model.html#logistic-regression\n",
      "  n_iter_i = _check_optimize_result(\n"
     ]
    },
    {
     "name": "stdout",
     "output_type": "stream",
     "text": [
      "                                                                                  precision    recall  f1-score   support\n",
      "\n",
      "                                              Інші технічні недоліки стану ліфту       0.84      0.66      0.74       276\n",
      "Відновлення благоустрою після вик. планових,аварійних робіт на об’єктах благоуст       0.83      0.62      0.71       485\n",
      "                                                                    Відсутнє ХВП       0.88      0.73      0.80       305\n",
      "                                                                 Відсутність ГВП       0.86      0.95      0.90      2659\n",
      "                                                            Відсутність опалення       0.81      0.87      0.84      1241\n",
      "                                                  Відсутність опалення по стояку       0.77      0.61      0.68       369\n",
      "          Відсутність освітлення у під’їзді за відсутності/несправності лампочок       0.69      0.87      0.77       544\n",
      "                                                   ГЛ ”Несанкціонована торгівля”       0.91      0.78      0.84       289\n",
      "                                                     Не працює пасажирський ліфт       0.85      0.92      0.88       548\n",
      "                                                    Незадовільна температура ГВП       0.82      0.65      0.73       440\n",
      "                                               Незадовільна температура опалення       0.85      0.65      0.74       275\n",
      "                                     Освітлення в приміщенні й при вході в нього       0.72      0.36      0.48       340\n",
      "                     Перевірка дозвільної документації, демонтаж кіосків, ларків       0.91      0.94      0.92       720\n",
      "        Перерахунок та нарахування плати за інші види житлово-комунальних послуг       0.87      0.77      0.82       372\n",
      "                                                            Прибирання приміщень       0.88      0.78      0.83       331\n",
      "                                         Прибирання та санітарний стан територій       0.84      0.87      0.85       588\n",
      "                                                   Про розгляд звернень громадян       0.67      0.60      0.63       316\n",
      "                                                                Ремонт під’їзду;       0.91      0.89      0.90       470\n",
      "                             Технічний стан проїжджих частин вулиць та тротуарів       0.72      0.47      0.57       433\n",
      "                                        Укладання та ремонт асфальтного покриття       0.72      0.91      0.80      1307\n",
      "\n",
      "                                                                        accuracy                           0.82     12308\n",
      "                                                                       macro avg       0.82      0.74      0.77     12308\n",
      "                                                                    weighted avg       0.82      0.82      0.81     12308\n",
      "\n",
      "CPU times: user 5min 21s, sys: 30.3 s, total: 5min 51s\n",
      "Wall time: 5min 12s\n"
     ]
    }
   ],
   "source": [
    "%%time\n",
    "tfidf_vectorizer = TfidfVectorizer(tokenizer = my_tokenizer_stemm, ngram_range = (1,3), max_features = 100000)\n",
    "X_train_transformed = tfidf_vectorizer.fit_transform(X_train)\n",
    "X_test_transformed = tfidf_vectorizer.transform(X_test)\n",
    "\n",
    "lr = LogisticRegression()\n",
    "lr.fit(X_train_transformed, y_train)\n",
    "test_preds = lr.predict(X_test_transformed)\n",
    "print(classification_report(y_test, test_preds))"
   ]
  },
  {
   "cell_type": "code",
   "execution_count": 184,
   "metadata": {},
   "outputs": [
    {
     "name": "stderr",
     "output_type": "stream",
     "text": [
      "/home/nata/PycharmProjects/UCU/NLP/nlp_env/lib/python3.8/site-packages/sklearn/linear_model/_logistic.py:762: ConvergenceWarning: lbfgs failed to converge (status=1):\n",
      "STOP: TOTAL NO. of ITERATIONS REACHED LIMIT.\n",
      "\n",
      "Increase the number of iterations (max_iter) or scale the data as shown in:\n",
      "    https://scikit-learn.org/stable/modules/preprocessing.html\n",
      "Please also refer to the documentation for alternative solver options:\n",
      "    https://scikit-learn.org/stable/modules/linear_model.html#logistic-regression\n",
      "  n_iter_i = _check_optimize_result(\n"
     ]
    },
    {
     "name": "stdout",
     "output_type": "stream",
     "text": [
      "                                                                                  precision    recall  f1-score   support\n",
      "\n",
      "                                              Інші технічні недоліки стану ліфту       0.84      0.66      0.74       276\n",
      "Відновлення благоустрою після вик. планових,аварійних робіт на об’єктах благоуст       0.82      0.62      0.71       485\n",
      "                                                                    Відсутнє ХВП       0.88      0.77      0.82       305\n",
      "                                                                 Відсутність ГВП       0.87      0.94      0.90      2659\n",
      "                                                            Відсутність опалення       0.81      0.87      0.84      1241\n",
      "                                                  Відсутність опалення по стояку       0.76      0.61      0.68       369\n",
      "          Відсутність освітлення у під’їзді за відсутності/несправності лампочок       0.68      0.86      0.76       544\n",
      "                                                   ГЛ ”Несанкціонована торгівля”       0.91      0.77      0.83       289\n",
      "                                                     Не працює пасажирський ліфт       0.85      0.92      0.88       548\n",
      "                                                    Незадовільна температура ГВП       0.81      0.65      0.72       440\n",
      "                                               Незадовільна температура опалення       0.83      0.66      0.74       275\n",
      "                                     Освітлення в приміщенні й при вході в нього       0.69      0.35      0.47       340\n",
      "                     Перевірка дозвільної документації, демонтаж кіосків, ларків       0.90      0.94      0.92       720\n",
      "        Перерахунок та нарахування плати за інші види житлово-комунальних послуг       0.87      0.76      0.81       372\n",
      "                                                            Прибирання приміщень       0.88      0.78      0.83       331\n",
      "                                         Прибирання та санітарний стан територій       0.84      0.87      0.85       588\n",
      "                                                   Про розгляд звернень громадян       0.66      0.61      0.64       316\n",
      "                                                                Ремонт під’їзду;       0.90      0.89      0.90       470\n",
      "                             Технічний стан проїжджих частин вулиць та тротуарів       0.70      0.47      0.56       433\n",
      "                                        Укладання та ремонт асфальтного покриття       0.72      0.90      0.80      1307\n",
      "\n",
      "                                                                        accuracy                           0.82     12308\n",
      "                                                                       macro avg       0.81      0.75      0.77     12308\n",
      "                                                                    weighted avg       0.82      0.82      0.81     12308\n",
      "\n",
      "CPU times: user 5min 32s, sys: 43.3 s, total: 6min 16s\n",
      "Wall time: 4min 52s\n"
     ]
    }
   ],
   "source": [
    "%%time\n",
    "tfidf_vectorizer = TfidfVectorizer(tokenizer = my_tokenizer_stemm, ngram_range = (1,3), max_features = 50000)\n",
    "X_train_transformed = tfidf_vectorizer.fit_transform(X_train)\n",
    "X_test_transformed = tfidf_vectorizer.transform(X_test)\n",
    "\n",
    "lr = LogisticRegression()\n",
    "lr.fit(X_train_transformed, y_train)\n",
    "test_preds = lr.predict(X_test_transformed)\n",
    "print(classification_report(y_test, test_preds))"
   ]
  },
  {
   "cell_type": "code",
   "execution_count": 185,
   "metadata": {},
   "outputs": [
    {
     "name": "stderr",
     "output_type": "stream",
     "text": [
      "/home/nata/PycharmProjects/UCU/NLP/nlp_env/lib/python3.8/site-packages/sklearn/linear_model/_logistic.py:762: ConvergenceWarning: lbfgs failed to converge (status=1):\n",
      "STOP: TOTAL NO. of ITERATIONS REACHED LIMIT.\n",
      "\n",
      "Increase the number of iterations (max_iter) or scale the data as shown in:\n",
      "    https://scikit-learn.org/stable/modules/preprocessing.html\n",
      "Please also refer to the documentation for alternative solver options:\n",
      "    https://scikit-learn.org/stable/modules/linear_model.html#logistic-regression\n",
      "  n_iter_i = _check_optimize_result(\n"
     ]
    },
    {
     "name": "stdout",
     "output_type": "stream",
     "text": [
      "                                                                                  precision    recall  f1-score   support\n",
      "\n",
      "                                              Інші технічні недоліки стану ліфту       0.84      0.67      0.74       276\n",
      "Відновлення благоустрою після вик. планових,аварійних робіт на об’єктах благоуст       0.81      0.63      0.71       485\n",
      "                                                                    Відсутнє ХВП       0.88      0.81      0.84       305\n",
      "                                                                 Відсутність ГВП       0.88      0.94      0.90      2659\n",
      "                                                            Відсутність опалення       0.81      0.86      0.83      1241\n",
      "                                                  Відсутність опалення по стояку       0.73      0.62      0.67       369\n",
      "          Відсутність освітлення у під’їзді за відсутності/несправності лампочок       0.67      0.84      0.74       544\n",
      "                                                   ГЛ ”Несанкціонована торгівля”       0.90      0.79      0.84       289\n",
      "                                                     Не працює пасажирський ліфт       0.86      0.92      0.89       548\n",
      "                                                    Незадовільна температура ГВП       0.81      0.67      0.73       440\n",
      "                                               Незадовільна температура опалення       0.79      0.68      0.73       275\n",
      "                                     Освітлення в приміщенні й при вході в нього       0.63      0.33      0.44       340\n",
      "                     Перевірка дозвільної документації, демонтаж кіосків, ларків       0.91      0.93      0.92       720\n",
      "        Перерахунок та нарахування плати за інші види житлово-комунальних послуг       0.84      0.77      0.80       372\n",
      "                                                            Прибирання приміщень       0.84      0.78      0.81       331\n",
      "                                         Прибирання та санітарний стан територій       0.83      0.86      0.84       588\n",
      "                                                   Про розгляд звернень громадян       0.63      0.60      0.61       316\n",
      "                                                                Ремонт під’їзду;       0.90      0.88      0.89       470\n",
      "                             Технічний стан проїжджих частин вулиць та тротуарів       0.67      0.49      0.57       433\n",
      "                                        Укладання та ремонт асфальтного покриття       0.73      0.88      0.80      1307\n",
      "\n",
      "                                                                        accuracy                           0.81     12308\n",
      "                                                                       macro avg       0.80      0.75      0.77     12308\n",
      "                                                                    weighted avg       0.81      0.81      0.81     12308\n",
      "\n",
      "CPU times: user 3min 39s, sys: 30.2 s, total: 4min 9s\n",
      "Wall time: 3min 13s\n"
     ]
    }
   ],
   "source": [
    "%%time\n",
    "tfidf_vectorizer = TfidfVectorizer(tokenizer = my_tokenizer_stemm, ngram_range = (1,3), max_features = 10000)\n",
    "X_train_transformed = tfidf_vectorizer.fit_transform(X_train)\n",
    "X_test_transformed = tfidf_vectorizer.transform(X_test)\n",
    "\n",
    "lr = LogisticRegression()\n",
    "lr.fit(X_train_transformed, y_train)\n",
    "test_preds = lr.predict(X_test_transformed)\n",
    "print(classification_report(y_test, test_preds))"
   ]
  },
  {
   "cell_type": "markdown",
   "metadata": {},
   "source": [
    "I tested 3 values of max_features:\n",
    "\n",
    "- 100000 (accuracy = 82%)\n",
    "- 50000 (accuracy = 82%)\n",
    "- 10000 (accuracy = 81%)\n",
    "\n",
    "In the future calculations I decided to use 50000 max_features"
   ]
  },
  {
   "cell_type": "code",
   "execution_count": 186,
   "metadata": {},
   "outputs": [],
   "source": [
    "tfidf_vectorizer = TfidfVectorizer(tokenizer = my_tokenizer_stemm, ngram_range = (1,3), max_features = 50000)\n",
    "X_train_transformed = tfidf_vectorizer.fit_transform(X_train)\n",
    "X_test_transformed = tfidf_vectorizer.transform(X_test)"
   ]
  },
  {
   "cell_type": "markdown",
   "metadata": {},
   "source": [
    "Now I will test the ensemble model: RandomForestClassifier"
   ]
  },
  {
   "cell_type": "code",
   "execution_count": 187,
   "metadata": {},
   "outputs": [],
   "source": [
    "from sklearn.preprocessing import LabelEncoder\n",
    "\n",
    "le = LabelEncoder()\n",
    "y_train_encoded = le.fit_transform(y_train)\n",
    "y_test_encoded = le.transform(y_test)"
   ]
  },
  {
   "cell_type": "code",
   "execution_count": 188,
   "metadata": {},
   "outputs": [
    {
     "data": {
      "text/plain": [
       "GridSearchCV(cv=3, estimator=RandomForestClassifier(n_jobs=2),\n",
       "             param_grid={'max_features': [100, 300, 500, 1000],\n",
       "                         'min_samples_split': [10, 50, 100],\n",
       "                         'n_estimators': [100, 150, 200]})"
      ]
     },
     "execution_count": 188,
     "metadata": {},
     "output_type": "execute_result"
    }
   ],
   "source": [
    "from sklearn.ensemble import RandomForestClassifier\n",
    "\n",
    "parameters = {'n_estimators':[100,150,200], \n",
    "              'max_features':[100, 300, 500, 1000],\n",
    "              'min_samples_split':[10, 50, 100]}\n",
    "rf = RandomForestClassifier(n_jobs = 2)\n",
    "clf = GridSearchCV(rf, parameters, cv = 3)\n",
    "clf.fit(X_train_transformed, y_train_encoded)"
   ]
  },
  {
   "cell_type": "code",
   "execution_count": 189,
   "metadata": {},
   "outputs": [
    {
     "data": {
      "text/plain": [
       "{'max_features': 1000, 'min_samples_split': 10, 'n_estimators': 200}"
      ]
     },
     "execution_count": 189,
     "metadata": {},
     "output_type": "execute_result"
    }
   ],
   "source": [
    "clf.best_params_"
   ]
  },
  {
   "cell_type": "code",
   "execution_count": 190,
   "metadata": {},
   "outputs": [
    {
     "name": "stdout",
     "output_type": "stream",
     "text": [
      "CPU times: user 11min 30s, sys: 525 ms, total: 11min 31s\n",
      "Wall time: 5min 46s\n"
     ]
    },
    {
     "data": {
      "text/plain": [
       "RandomForestClassifier(max_features=1000, min_samples_split=10,\n",
       "                       n_estimators=200, n_jobs=2)"
      ]
     },
     "execution_count": 190,
     "metadata": {},
     "output_type": "execute_result"
    }
   ],
   "source": [
    "%%time\n",
    "rf = RandomForestClassifier(n_jobs = 2, min_samples_split = 10, max_features = 1000, n_estimators = 200)\n",
    "rf.fit(X_train_transformed, y_train_encoded)"
   ]
  },
  {
   "cell_type": "code",
   "execution_count": 191,
   "metadata": {},
   "outputs": [
    {
     "name": "stdout",
     "output_type": "stream",
     "text": [
      "              precision    recall  f1-score   support\n",
      "\n",
      "           0       0.78      0.61      0.68       276\n",
      "           1       0.82      0.39      0.53       485\n",
      "           2       0.87      0.79      0.83       305\n",
      "           3       0.85      0.95      0.90      2659\n",
      "           4       0.79      0.85      0.82      1241\n",
      "           5       0.80      0.62      0.70       369\n",
      "           6       0.66      0.93      0.77       544\n",
      "           7       0.91      0.80      0.85       289\n",
      "           8       0.80      0.91      0.85       548\n",
      "           9       0.84      0.66      0.74       440\n",
      "          10       0.82      0.59      0.68       275\n",
      "          11       0.87      0.32      0.47       340\n",
      "          12       0.90      0.93      0.91       720\n",
      "          13       0.77      0.65      0.70       372\n",
      "          14       0.83      0.74      0.78       331\n",
      "          15       0.82      0.83      0.83       588\n",
      "          16       0.59      0.61      0.60       316\n",
      "          17       0.86      0.85      0.86       470\n",
      "          18       0.81      0.32      0.46       433\n",
      "          19       0.68      0.92      0.78      1307\n",
      "\n",
      "    accuracy                           0.80     12308\n",
      "   macro avg       0.80      0.71      0.74     12308\n",
      "weighted avg       0.80      0.80      0.78     12308\n",
      "\n"
     ]
    }
   ],
   "source": [
    "test_preds = rf.predict(X_test_transformed)\n",
    "print(classification_report(y_test_encoded, test_preds))"
   ]
  },
  {
   "cell_type": "code",
   "execution_count": 192,
   "metadata": {},
   "outputs": [
    {
     "name": "stdout",
     "output_type": "stream",
     "text": [
      "              precision    recall  f1-score   support\n",
      "\n",
      "           0       1.00      1.00      1.00      1174\n",
      "           1       1.00      0.99      0.99      1908\n",
      "           2       0.99      1.00      1.00      1257\n",
      "           3       1.00      1.00      1.00     10614\n",
      "           4       0.99      1.00      1.00      4779\n",
      "           5       1.00      0.99      0.99      1680\n",
      "           6       0.99      0.99      0.99      2093\n",
      "           7       1.00      0.99      1.00      1146\n",
      "           8       1.00      1.00      1.00      2170\n",
      "           9       1.00      0.99      1.00      1864\n",
      "          10       1.00      0.99      0.99      1066\n",
      "          11       1.00      0.98      0.99      1319\n",
      "          12       1.00      0.99      1.00      2934\n",
      "          13       0.94      1.00      0.97      1524\n",
      "          14       0.99      1.00      0.99      1229\n",
      "          15       1.00      1.00      1.00      2496\n",
      "          16       1.00      0.98      0.99      1278\n",
      "          17       1.00      1.00      1.00      1626\n",
      "          18       0.99      0.99      0.99      1747\n",
      "          19       0.99      0.99      0.99      5325\n",
      "\n",
      "    accuracy                           0.99     49229\n",
      "   macro avg       0.99      0.99      0.99     49229\n",
      "weighted avg       0.99      0.99      0.99     49229\n",
      "\n"
     ]
    }
   ],
   "source": [
    "train_preds = rf.predict(X_train_transformed)\n",
    "print(classification_report(y_train_encoded, train_preds))"
   ]
  },
  {
   "cell_type": "markdown",
   "metadata": {},
   "source": [
    "The accuracy for the RandomForest is 80%. But we see that the best parameters are on the edge of the parameter space. If I expand the grid space, the accuracy might be higher."
   ]
  },
  {
   "cell_type": "markdown",
   "metadata": {},
   "source": [
    "# Second model: Embeddings + kNN"
   ]
  },
  {
   "cell_type": "markdown",
   "metadata": {},
   "source": [
    "### Embeddings"
   ]
  },
  {
   "cell_type": "code",
   "execution_count": 23,
   "metadata": {},
   "outputs": [],
   "source": [
    "from gensim.test.utils import datapath, get_tmpfile\n",
    "from gensim.models import KeyedVectors\n",
    "from gensim.scripts.glove2word2vec import glove2word2vec\n",
    "\n",
    "glove_vec_path = '/home/nata/PycharmProjects/UCU/NLP/Module4/fiction.cased.tokenized.glove.300d'\n",
    "vec_path = '/home/nata/PycharmProjects/UCU/NLP/Module4/fiction.cased.tokenized.glove_vec.300d'"
   ]
  },
  {
   "cell_type": "code",
   "execution_count": 24,
   "metadata": {},
   "outputs": [
    {
     "data": {
      "text/plain": [
       "(116804, 300)"
      ]
     },
     "execution_count": 24,
     "metadata": {},
     "output_type": "execute_result"
    }
   ],
   "source": [
    "glove_file = datapath(glove_vec_path)\n",
    "word2vec_glove_file = get_tmpfile(vec_path)\n",
    "glove2word2vec(glove_file, word2vec_glove_file)"
   ]
  },
  {
   "cell_type": "code",
   "execution_count": 25,
   "metadata": {},
   "outputs": [],
   "source": [
    "model = KeyedVectors.load_word2vec_format(word2vec_glove_file)"
   ]
  },
  {
   "cell_type": "code",
   "execution_count": 103,
   "metadata": {},
   "outputs": [],
   "source": [
    "from sklearn.base import BaseEstimator, TransformerMixin\n",
    "\n",
    "class Doc2VecAvgTransformer(BaseEstimator, TransformerMixin):\n",
    "    \n",
    "    def __init__(self, model, tokenizer = None):\n",
    "        self.model = model\n",
    "        if tokenizer == None:\n",
    "            self.tokenizer = self.__default_tokenizer\n",
    "        else:\n",
    "            self.tokenizer = tokenizer\n",
    "            \n",
    "    def __default_tokenizer(self, sent):\n",
    "        return sent.split(\" \")\n",
    "    \n",
    "    def __doc2vec_avg(self, words):\n",
    "        k = self.model.vocab.keys()\n",
    "        vectors = np.array([self.model[w] for w in words if w in k ])\n",
    "        if len(vectors)==0:\n",
    "            return np.zeros(self.model.vector_size)\n",
    "        return vectors.mean(axis = 0)\n",
    "\n",
    "    def fit(self, X, y=None):\n",
    "        return self\n",
    "\n",
    "    def transform(self, X):\n",
    "        X_numpy = np.array(X)\n",
    "        vectors = []\n",
    "        for row in X_numpy:\n",
    "            tokenized_text = self.tokenizer(row[0])\n",
    "            vector_text = self.__doc2vec_avg(tokenized_text)\n",
    "            vectors.append(vector_text)\n",
    "        return np.array(vectors)"
   ]
  },
  {
   "cell_type": "code",
   "execution_count": 109,
   "metadata": {},
   "outputs": [],
   "source": [
    "doc2vec = Doc2VecAvgTransformer(model = model, tokenizer = tokenize_words)\n",
    "X_train_transformed = doc2vec.fit_transform(pd.DataFrame(X_train))\n",
    "X_test_transformed = doc2vec.transform(pd.DataFrame(X_test))"
   ]
  },
  {
   "cell_type": "markdown",
   "metadata": {},
   "source": [
    "### KNN"
   ]
  },
  {
   "cell_type": "code",
   "execution_count": 134,
   "metadata": {},
   "outputs": [
    {
     "data": {
      "text/plain": [
       "GridSearchCV(cv=2, estimator=KNeighborsClassifier(n_jobs=2),\n",
       "             param_grid={'n_neighbors': [20, 30, 40, 50]})"
      ]
     },
     "execution_count": 134,
     "metadata": {},
     "output_type": "execute_result"
    }
   ],
   "source": [
    "from sklearn.neighbors import KNeighborsClassifier\n",
    "from sklearn.model_selection import GridSearchCV\n",
    "\n",
    "parameters = {'n_neighbors': [20,30,40,50]}\n",
    "knn = KNeighborsClassifier(n_jobs = 2)\n",
    "clf = GridSearchCV(knn, parameters, cv = 2)\n",
    "clf.fit(X_train_transformed, y_train)"
   ]
  },
  {
   "cell_type": "code",
   "execution_count": 135,
   "metadata": {},
   "outputs": [
    {
     "data": {
      "text/plain": [
       "{'n_neighbors': 30}"
      ]
     },
     "execution_count": 135,
     "metadata": {},
     "output_type": "execute_result"
    }
   ],
   "source": [
    "clf.best_params_"
   ]
  },
  {
   "cell_type": "code",
   "execution_count": 136,
   "metadata": {},
   "outputs": [
    {
     "name": "stdout",
     "output_type": "stream",
     "text": [
      "CPU times: user 2.39 s, sys: 1.3 ms, total: 2.39 s\n",
      "Wall time: 2.39 s\n"
     ]
    },
    {
     "data": {
      "text/plain": [
       "KNeighborsClassifier(n_jobs=2, n_neighbors=30)"
      ]
     },
     "execution_count": 136,
     "metadata": {},
     "output_type": "execute_result"
    }
   ],
   "source": [
    "%%time\n",
    "knn = KNeighborsClassifier(n_neighbors = 30, n_jobs = 2)\n",
    "knn.fit(X_train_transformed, y_train)"
   ]
  },
  {
   "cell_type": "code",
   "execution_count": 137,
   "metadata": {},
   "outputs": [
    {
     "name": "stdout",
     "output_type": "stream",
     "text": [
      "                                                                                  precision    recall  f1-score   support\n",
      "\n",
      "                                              Інші технічні недоліки стану ліфту       0.23      0.20      0.21       276\n",
      "Відновлення благоустрою після вик. планових,аварійних робіт на об’єктах благоуст       0.23      0.13      0.17       485\n",
      "                                                                    Відсутнє ХВП       0.45      0.07      0.12       305\n",
      "                                                                 Відсутність ГВП       0.42      0.84      0.56      2659\n",
      "                                                            Відсутність опалення       0.48      0.28      0.35      1241\n",
      "                                                  Відсутність опалення по стояку       0.32      0.15      0.21       369\n",
      "          Відсутність освітлення у під’їзді за відсутності/несправності лампочок       0.41      0.24      0.30       544\n",
      "                                                   ГЛ ”Несанкціонована торгівля”       0.25      0.08      0.12       289\n",
      "                                                     Не працює пасажирський ліфт       0.50      0.32      0.39       548\n",
      "                                                    Незадовільна температура ГВП       0.40      0.17      0.24       440\n",
      "                                               Незадовільна температура опалення       0.30      0.08      0.13       275\n",
      "                                     Освітлення в приміщенні й при вході в нього       0.50      0.14      0.22       340\n",
      "                     Перевірка дозвільної документації, демонтаж кіосків, ларків       0.29      0.53      0.38       720\n",
      "        Перерахунок та нарахування плати за інші види житлово-комунальних послуг       0.28      0.53      0.36       372\n",
      "                                                            Прибирання приміщень       0.54      0.19      0.28       331\n",
      "                                         Прибирання та санітарний стан територій       0.58      0.29      0.38       588\n",
      "                                                   Про розгляд звернень громадян       0.23      0.22      0.22       316\n",
      "                                                                Ремонт під’їзду;       0.34      0.20      0.25       470\n",
      "                             Технічний стан проїжджих частин вулиць та тротуарів       0.46      0.14      0.22       433\n",
      "                                        Укладання та ремонт асфальтного покриття       0.41      0.41      0.41      1307\n",
      "\n",
      "                                                                        accuracy                           0.39     12308\n",
      "                                                                       macro avg       0.38      0.26      0.28     12308\n",
      "                                                                    weighted avg       0.40      0.39      0.35     12308\n",
      "\n"
     ]
    }
   ],
   "source": [
    "from sklearn.metrics import classification_report\n",
    "\n",
    "test_preds = knn.predict(X_test_transformed)\n",
    "print(classification_report(y_test, test_preds))"
   ]
  },
  {
   "cell_type": "code",
   "execution_count": 138,
   "metadata": {},
   "outputs": [
    {
     "name": "stdout",
     "output_type": "stream",
     "text": [
      "                                                                                  precision    recall  f1-score   support\n",
      "\n",
      "                                              Інші технічні недоліки стану ліфту       0.32      0.24      0.27      1174\n",
      "Відновлення благоустрою після вик. планових,аварійних робіт на об’єктах благоуст       0.40      0.22      0.28      1908\n",
      "                                                                    Відсутнє ХВП       0.57      0.07      0.13      1257\n",
      "                                                                 Відсутність ГВП       0.44      0.89      0.59     10614\n",
      "                                                            Відсутність опалення       0.53      0.35      0.42      4779\n",
      "                                                  Відсутність опалення по стояку       0.44      0.18      0.26      1680\n",
      "          Відсутність освітлення у під’їзді за відсутності/несправності лампочок       0.48      0.29      0.36      2093\n",
      "                                                   ГЛ ”Несанкціонована торгівля”       0.37      0.14      0.20      1146\n",
      "                                                     Не працює пасажирський ліфт       0.57      0.37      0.45      2170\n",
      "                                                    Незадовільна температура ГВП       0.56      0.24      0.34      1864\n",
      "                                               Незадовільна температура опалення       0.37      0.11      0.17      1066\n",
      "                                     Освітлення в приміщенні й при вході в нього       0.60      0.20      0.30      1319\n",
      "                     Перевірка дозвільної документації, демонтаж кіосків, ларків       0.32      0.56      0.41      2934\n",
      "        Перерахунок та нарахування плати за інші види житлово-комунальних послуг       0.31      0.53      0.39      1524\n",
      "                                                            Прибирання приміщень       0.60      0.17      0.27      1229\n",
      "                                         Прибирання та санітарний стан територій       0.65      0.32      0.43      2496\n",
      "                                                   Про розгляд звернень громадян       0.31      0.27      0.28      1278\n",
      "                                                                Ремонт під’їзду;       0.42      0.27      0.32      1626\n",
      "                             Технічний стан проїжджих частин вулиць та тротуарів       0.53      0.15      0.23      1747\n",
      "                                        Укладання та ремонт асфальтного покриття       0.49      0.48      0.48      5325\n",
      "\n",
      "                                                                        accuracy                           0.44     49229\n",
      "                                                                       macro avg       0.46      0.30      0.33     49229\n",
      "                                                                    weighted avg       0.47      0.44      0.40     49229\n",
      "\n"
     ]
    }
   ],
   "source": [
    "train_preds = knn.predict(X_train_transformed)\n",
    "print(classification_report(y_train, train_preds))"
   ]
  },
  {
   "cell_type": "markdown",
   "metadata": {},
   "source": [
    "The accuracy is disappointing: 39%. The possible reasons are:\n",
    "\n",
    "- the vectors that are used does not have enought words\n",
    "- the vectors were trained on text with different theme\n",
    "- the averaging of word embeddings is not the best way to create doc embedding"
   ]
  },
  {
   "cell_type": "markdown",
   "metadata": {},
   "source": [
    "## Model improvement"
   ]
  },
  {
   "cell_type": "markdown",
   "metadata": {},
   "source": [
    "I decided to test the same pipeline, but with different vecotors. The new vectors were downloaded from here: https://lang.org.ua/en/models/#anchor4 (lemmatized lowercase Newswire)"
   ]
  },
  {
   "cell_type": "code",
   "execution_count": 194,
   "metadata": {},
   "outputs": [],
   "source": [
    "glove_vec_path = '/home/nata/PycharmProjects/UCU/NLP/Module4/news.lowercased.lemmatized.glove.300d'\n",
    "vec_path = '/home/nata/PycharmProjects/UCU/NLP/Module4/news.lowercased.lemmatized.glove_vec.300d'"
   ]
  },
  {
   "cell_type": "code",
   "execution_count": 195,
   "metadata": {},
   "outputs": [
    {
     "data": {
      "text/plain": [
       "(174312, 300)"
      ]
     },
     "execution_count": 195,
     "metadata": {},
     "output_type": "execute_result"
    }
   ],
   "source": [
    "glove_file = datapath(glove_vec_path)\n",
    "word2vec_glove_file = get_tmpfile(vec_path)\n",
    "glove2word2vec(glove_file, word2vec_glove_file)"
   ]
  },
  {
   "cell_type": "code",
   "execution_count": 196,
   "metadata": {},
   "outputs": [],
   "source": [
    "model = KeyedVectors.load_word2vec_format(word2vec_glove_file)"
   ]
  },
  {
   "cell_type": "code",
   "execution_count": 197,
   "metadata": {},
   "outputs": [],
   "source": [
    "doc2vec = Doc2VecAvgTransformer(model = model, tokenizer = tokenize_words)\n",
    "X_train_transformed = doc2vec.fit_transform(pd.DataFrame(X_train))\n",
    "X_test_transformed = doc2vec.transform(pd.DataFrame(X_test))"
   ]
  },
  {
   "cell_type": "code",
   "execution_count": 198,
   "metadata": {},
   "outputs": [
    {
     "data": {
      "text/plain": [
       "KNeighborsClassifier(n_jobs=2, n_neighbors=30)"
      ]
     },
     "execution_count": 198,
     "metadata": {},
     "output_type": "execute_result"
    }
   ],
   "source": [
    "knn = KNeighborsClassifier(n_neighbors = 30, n_jobs = 2)\n",
    "knn.fit(X_train_transformed, y_train)"
   ]
  },
  {
   "cell_type": "code",
   "execution_count": 199,
   "metadata": {},
   "outputs": [
    {
     "name": "stdout",
     "output_type": "stream",
     "text": [
      "                                                                                  precision    recall  f1-score   support\n",
      "\n",
      "                                              Інші технічні недоліки стану ліфту       0.33      0.38      0.35       276\n",
      "Відновлення благоустрою після вик. планових,аварійних робіт на об’єктах благоуст       0.33      0.14      0.20       485\n",
      "                                                                    Відсутнє ХВП       0.59      0.08      0.13       305\n",
      "                                                                 Відсутність ГВП       0.46      0.90      0.61      2659\n",
      "                                                            Відсутність опалення       0.57      0.45      0.50      1241\n",
      "                                                  Відсутність опалення по стояку       0.31      0.14      0.19       369\n",
      "          Відсутність освітлення у під’їзді за відсутності/несправності лампочок       0.51      0.39      0.44       544\n",
      "                                                   ГЛ ”Несанкціонована торгівля”       0.47      0.17      0.25       289\n",
      "                                                     Не працює пасажирський ліфт       0.62      0.44      0.51       548\n",
      "                                                    Незадовільна температура ГВП       0.57      0.20      0.29       440\n",
      "                                               Незадовільна температура опалення       0.46      0.13      0.20       275\n",
      "                                     Освітлення в приміщенні й при вході в нього       0.44      0.13      0.20       340\n",
      "                     Перевірка дозвільної документації, демонтаж кіосків, ларків       0.42      0.67      0.52       720\n",
      "        Перерахунок та нарахування плати за інші види житлово-комунальних послуг       0.45      0.60      0.51       372\n",
      "                                                            Прибирання приміщень       0.64      0.18      0.28       331\n",
      "                                         Прибирання та санітарний стан територій       0.69      0.43      0.53       588\n",
      "                                                   Про розгляд звернень громадян       0.29      0.19      0.23       316\n",
      "                                                                Ремонт під’їзду;       0.46      0.30      0.36       470\n",
      "                             Технічний стан проїжджих частин вулиць та тротуарів       0.56      0.16      0.25       433\n",
      "                                        Укладання та ремонт асфальтного покриття       0.50      0.55      0.52      1307\n",
      "\n",
      "                                                                        accuracy                           0.48     12308\n",
      "                                                                       macro avg       0.48      0.33      0.35     12308\n",
      "                                                                    weighted avg       0.49      0.48      0.44     12308\n",
      "\n"
     ]
    }
   ],
   "source": [
    "from sklearn.metrics import classification_report\n",
    "\n",
    "test_preds = knn.predict(X_test_transformed)\n",
    "print(classification_report(y_test, test_preds))"
   ]
  },
  {
   "cell_type": "code",
   "execution_count": 200,
   "metadata": {},
   "outputs": [
    {
     "name": "stdout",
     "output_type": "stream",
     "text": [
      "                                                                                  precision    recall  f1-score   support\n",
      "\n",
      "                                              Інші технічні недоліки стану ліфту       0.35      0.37      0.36      1174\n",
      "Відновлення благоустрою після вик. планових,аварійних робіт на об’єктах благоуст       0.49      0.23      0.31      1908\n",
      "                                                                    Відсутнє ХВП       0.66      0.09      0.15      1257\n",
      "                                                                 Відсутність ГВП       0.48      0.92      0.63     10614\n",
      "                                                            Відсутність опалення       0.60      0.50      0.55      4779\n",
      "                                                  Відсутність опалення по стояку       0.43      0.19      0.27      1680\n",
      "          Відсутність освітлення у під’їзді за відсутності/несправності лампочок       0.56      0.44      0.49      2093\n",
      "                                                   ГЛ ”Несанкціонована торгівля”       0.57      0.26      0.36      1146\n",
      "                                                     Не працює пасажирський ліфт       0.65      0.49      0.56      2170\n",
      "                                                    Незадовільна температура ГВП       0.66      0.24      0.35      1864\n",
      "                                               Незадовільна температура опалення       0.59      0.17      0.26      1066\n",
      "                                     Освітлення в приміщенні й при вході в нього       0.58      0.19      0.28      1319\n",
      "                     Перевірка дозвільної документації, демонтаж кіосків, ларків       0.48      0.68      0.56      2934\n",
      "        Перерахунок та нарахування плати за інші види житлово-комунальних послуг       0.48      0.61      0.53      1524\n",
      "                                                            Прибирання приміщень       0.67      0.21      0.33      1229\n",
      "                                         Прибирання та санітарний стан територій       0.71      0.48      0.57      2496\n",
      "                                                   Про розгляд звернень громадян       0.39      0.26      0.31      1278\n",
      "                                                                Ремонт під’їзду;       0.52      0.39      0.44      1626\n",
      "                             Технічний стан проїжджих частин вулиць та тротуарів       0.55      0.16      0.25      1747\n",
      "                                        Укладання та ремонт асфальтного покриття       0.56      0.60      0.58      5325\n",
      "\n",
      "                                                                        accuracy                           0.52     49229\n",
      "                                                                       macro avg       0.55      0.37      0.41     49229\n",
      "                                                                    weighted avg       0.54      0.52      0.48     49229\n",
      "\n"
     ]
    }
   ],
   "source": [
    "train_preds = knn.predict(X_train_transformed)\n",
    "print(classification_report(y_train, train_preds))"
   ]
  },
  {
   "cell_type": "markdown",
   "metadata": {},
   "source": [
    "The accuracy rose by 10%. "
   ]
  },
  {
   "cell_type": "markdown",
   "metadata": {},
   "source": [
    "**Conclussion:** For the task of text classification the better choice is to use bag of words model. You can experiment with the models and text preprocessing to improve the score. If you need to use the embeddings, you should think about the corpus of vectors, maybe even create the new one. Also I did not check other methods of creating doc embeddings, maybe it will improve the accuracy too."
   ]
  }
 ],
 "metadata": {
  "kernelspec": {
   "display_name": "Python 3",
   "language": "python",
   "name": "python3"
  },
  "language_info": {
   "codemirror_mode": {
    "name": "ipython",
    "version": 3
   },
   "file_extension": ".py",
   "mimetype": "text/x-python",
   "name": "python",
   "nbconvert_exporter": "python",
   "pygments_lexer": "ipython3",
   "version": "3.8.5"
  }
 },
 "nbformat": 4,
 "nbformat_minor": 4
}
