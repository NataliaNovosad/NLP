{
 "cells": [
  {
   "cell_type": "code",
   "execution_count": 66,
   "metadata": {},
   "outputs": [],
   "source": [
    "import json\n",
    "import os\n",
    "\n",
    "import numpy as np\n",
    "import pandas as pd\n",
    "\n",
    "# Get the interactive Tools for Matplotlib\n",
    "#%matplotlib notebook\n",
    "import matplotlib.pyplot as plt\n",
    "plt.style.use('ggplot')\n",
    "\n",
    "#from sklearn.decomposition import PCA\n",
    "\n",
    "from gensim.test.utils import datapath, get_tmpfile\n",
    "from gensim.models import KeyedVectors\n",
    "from gensim.scripts.glove2word2vec import glove2word2vec\n",
    "\n",
    "from tokenize_uk import tokenize_words"
   ]
  },
  {
   "cell_type": "markdown",
   "metadata": {},
   "source": [
    "### Download vectors of words"
   ]
  },
  {
   "cell_type": "markdown",
   "metadata": {},
   "source": [
    "https://web.stanford.edu/class/cs224n/materials/Gensim%20word%20vector%20visualization.html"
   ]
  },
  {
   "cell_type": "code",
   "execution_count": 6,
   "metadata": {},
   "outputs": [],
   "source": [
    "glove_vec_path = '/home/nata/PycharmProjects/UCU/NLP/Module4/fiction.cased.tokenized.glove.300d'\n",
    "vec_path = '/home/nata/PycharmProjects/UCU/NLP/Module4/fiction.cased.tokenized.glove_vec.300d'"
   ]
  },
  {
   "cell_type": "code",
   "execution_count": 7,
   "metadata": {},
   "outputs": [
    {
     "data": {
      "text/plain": [
       "(116804, 300)"
      ]
     },
     "execution_count": 7,
     "metadata": {},
     "output_type": "execute_result"
    }
   ],
   "source": [
    "glove_file = datapath(glove_vec_path)\n",
    "word2vec_glove_file = get_tmpfile(vec_path)\n",
    "glove2word2vec(glove_file, word2vec_glove_file)"
   ]
  },
  {
   "cell_type": "code",
   "execution_count": 8,
   "metadata": {},
   "outputs": [],
   "source": [
    "model = KeyedVectors.load_word2vec_format(word2vec_glove_file)"
   ]
  },
  {
   "cell_type": "code",
   "execution_count": 24,
   "metadata": {},
   "outputs": [
    {
     "data": {
      "text/plain": [
       "300"
      ]
     },
     "execution_count": 24,
     "metadata": {},
     "output_type": "execute_result"
    }
   ],
   "source": [
    "len(model[\"постачання\"])"
   ]
  },
  {
   "cell_type": "code",
   "execution_count": 47,
   "metadata": {},
   "outputs": [
    {
     "name": "stdout",
     "output_type": "stream",
     "text": [
      "борода\n"
     ]
    },
    {
     "name": "stderr",
     "output_type": "stream",
     "text": [
      "/home/nata/PycharmProjects/UCU/NLP/nlp_env/lib/python3.8/site-packages/gensim/models/keyedvectors.py:877: FutureWarning: arrays to stack must be passed as a \"sequence\" type such as list or tuple. Support for non-sequence iterables such as generators is deprecated as of NumPy 1.16 and will raise an error in the future.\n",
      "  vectors = vstack(self.word_vec(word, use_norm=True) for word in used_words).astype(REAL)\n"
     ]
    }
   ],
   "source": [
    "print(model.doesnt_match(\"Львів борода Київ Одеса\".split())) "
   ]
  },
  {
   "cell_type": "code",
   "execution_count": 31,
   "metadata": {},
   "outputs": [
    {
     "data": {
      "text/plain": [
       "[('Велетенські', 0.5601865649223328),\n",
       " ('гори', 0.5524407625198364),\n",
       " ('Альпи', 0.536340594291687),\n",
       " ('Собакаревої', 0.5013687610626221),\n",
       " ('несходимі', 0.4807429611682892),\n",
       " ('Кримські', 0.48002350330352783),\n",
       " ('крейдяні', 0.471161812543869),\n",
       " ('Холодної', 0.4687192440032959),\n",
       " ('лисі', 0.46492454409599304),\n",
       " ('Зазеленіли', 0.4571613073348999)]"
      ]
     },
     "execution_count": 31,
     "metadata": {},
     "output_type": "execute_result"
    }
   ],
   "source": [
    "model.most_similar('Карпати')"
   ]
  },
  {
   "cell_type": "code",
   "execution_count": 34,
   "metadata": {},
   "outputs": [
    {
     "name": "stdout",
     "output_type": "stream",
     "text": [
      "княгиня: 0.5063\n",
      "князь: 0.4479\n",
      "покійник: 0.3952\n"
     ]
    }
   ],
   "source": [
    "result = model.most_similar(positive=['жінка', 'князь'], negative=['чоловік'])\n",
    "print(\"{}: {:.4f}\".format(*result[0]))\n",
    "result = model.most_similar(positive=['чоловік', 'княгиня'], negative=['жінка'])\n",
    "print(\"{}: {:.4f}\".format(*result[0]))\n",
    "result = model.most_similar(positive=['чоловік', 'королева'], negative=['жінка'])\n",
    "print(\"{}: {:.4f}\".format(*result[0]))"
   ]
  },
  {
   "cell_type": "markdown",
   "metadata": {},
   "source": [
    "### Import corpus"
   ]
  },
  {
   "cell_type": "code",
   "execution_count": 37,
   "metadata": {},
   "outputs": [],
   "source": [
    "texts = []\n",
    "targets = []\n",
    "for file in os.listdir(\"1551/json\"):\n",
    "    with open(\"1551/json/\" + file) as f:\n",
    "        j = json.load(f)\n",
    "        texts.append(j[0][\"CallZText\"])\n",
    "        targets.append(j[0][\"CallZType\"])"
   ]
  },
  {
   "cell_type": "code",
   "execution_count": 73,
   "metadata": {},
   "outputs": [
    {
     "data": {
      "text/plain": [
       "(127329, 127329)"
      ]
     },
     "execution_count": 73,
     "metadata": {},
     "output_type": "execute_result"
    }
   ],
   "source": [
    "targets = pd.Series(targets)\n",
    "texts = pd.Series(texts)\n",
    "len(texts),len(targets)"
   ]
  },
  {
   "cell_type": "code",
   "execution_count": 74,
   "metadata": {},
   "outputs": [
    {
     "data": {
      "text/plain": [
       "(61537, 61537)"
      ]
     },
     "execution_count": 74,
     "metadata": {},
     "output_type": "execute_result"
    }
   ],
   "source": [
    "top20 = targets.value_counts()[:20].index\n",
    "texts_top20 = texts[targets.isin(top20)]\n",
    "targets_top20 = targets[targets.isin(top20)]\n",
    "len(texts_top20),len(targets_top20)"
   ]
  },
  {
   "cell_type": "code",
   "execution_count": 86,
   "metadata": {},
   "outputs": [],
   "source": [
    "from sklearn.model_selection import train_test_split\n",
    "\n",
    "X_train, X_test, y_train, y_test = train_test_split(texts_top20, targets_top20, test_size = 0.2, random_state = 42)"
   ]
  },
  {
   "cell_type": "code",
   "execution_count": 94,
   "metadata": {},
   "outputs": [
    {
     "data": {
      "text/plain": [
       "(20, 20)"
      ]
     },
     "execution_count": 94,
     "metadata": {},
     "output_type": "execute_result"
    }
   ],
   "source": [
    "y_train.nunique(), y_test.nunique()"
   ]
  },
  {
   "cell_type": "markdown",
   "metadata": {},
   "source": [
    "### Vectorization"
   ]
  },
  {
   "cell_type": "code",
   "execution_count": 87,
   "metadata": {},
   "outputs": [],
   "source": [
    "from sklearn.feature_extraction.text import CountVectorizer\n",
    "\n",
    "vectorizer = CountVectorizer(tokenizer = tokenize_words)\n",
    "X_train_transformed = vectorizer.fit_transform(X_train)\n",
    "X_test_transformed = vectorizer.transform(X_test)"
   ]
  },
  {
   "cell_type": "code",
   "execution_count": 88,
   "metadata": {},
   "outputs": [
    {
     "data": {
      "text/plain": [
       "(49229, 134852)"
      ]
     },
     "execution_count": 88,
     "metadata": {},
     "output_type": "execute_result"
    }
   ],
   "source": [
    "X_train_transformed.shape"
   ]
  },
  {
   "cell_type": "code",
   "execution_count": 89,
   "metadata": {},
   "outputs": [
    {
     "data": {
      "text/plain": [
       "134852"
      ]
     },
     "execution_count": 89,
     "metadata": {},
     "output_type": "execute_result"
    }
   ],
   "source": [
    "len(vectorizer.get_feature_names())"
   ]
  },
  {
   "cell_type": "markdown",
   "metadata": {},
   "source": [
    "### Classification"
   ]
  },
  {
   "cell_type": "code",
   "execution_count": 91,
   "metadata": {},
   "outputs": [
    {
     "name": "stderr",
     "output_type": "stream",
     "text": [
      "/home/nata/PycharmProjects/UCU/NLP/nlp_env/lib/python3.8/site-packages/sklearn/linear_model/_logistic.py:762: ConvergenceWarning: lbfgs failed to converge (status=1):\n",
      "STOP: TOTAL NO. of ITERATIONS REACHED LIMIT.\n",
      "\n",
      "Increase the number of iterations (max_iter) or scale the data as shown in:\n",
      "    https://scikit-learn.org/stable/modules/preprocessing.html\n",
      "Please also refer to the documentation for alternative solver options:\n",
      "    https://scikit-learn.org/stable/modules/linear_model.html#logistic-regression\n",
      "  n_iter_i = _check_optimize_result(\n"
     ]
    }
   ],
   "source": [
    "from sklearn.linear_model import LogisticRegression\n",
    "\n",
    "lr = LogisticRegression()\n",
    "lr = lr.fit(X_train_transformed, y_train)"
   ]
  },
  {
   "cell_type": "code",
   "execution_count": 93,
   "metadata": {},
   "outputs": [
    {
     "name": "stdout",
     "output_type": "stream",
     "text": [
      "                                                                                  precision    recall  f1-score   support\n",
      "\n",
      "                                              Інші технічні недоліки стану ліфту       0.73      0.68      0.71       276\n",
      "Відновлення благоустрою після вик. планових,аварійних робіт на об’єктах благоуст       0.75      0.66      0.70       485\n",
      "                                                                    Відсутнє ХВП       0.86      0.80      0.83       305\n",
      "                                                                 Відсутність ГВП       0.89      0.91      0.90      2659\n",
      "                                                            Відсутність опалення       0.80      0.85      0.83      1241\n",
      "                                                  Відсутність опалення по стояку       0.72      0.65      0.68       369\n",
      "          Відсутність освітлення у під’їзді за відсутності/несправності лампочок       0.68      0.76      0.72       544\n",
      "                                                   ГЛ ”Несанкціонована торгівля”       0.88      0.78      0.83       289\n",
      "                                                     Не працює пасажирський ліфт       0.85      0.87      0.86       548\n",
      "                                                    Незадовільна температура ГВП       0.73      0.71      0.72       440\n",
      "                                               Незадовільна температура опалення       0.77      0.67      0.72       275\n",
      "                                     Освітлення в приміщенні й при вході в нього       0.56      0.41      0.48       340\n",
      "                     Перевірка дозвільної документації, демонтаж кіосків, ларків       0.92      0.92      0.92       720\n",
      "        Перерахунок та нарахування плати за інші види житлово-комунальних послуг       0.81      0.78      0.80       372\n",
      "                                                            Прибирання приміщень       0.86      0.76      0.81       331\n",
      "                                         Прибирання та санітарний стан територій       0.82      0.87      0.84       588\n",
      "                                                   Про розгляд звернень громадян       0.61      0.62      0.62       316\n",
      "                                                                Ремонт під’їзду;       0.88      0.87      0.88       470\n",
      "                             Технічний стан проїжджих частин вулиць та тротуарів       0.64      0.55      0.59       433\n",
      "                                        Укладання та ремонт асфальтного покриття       0.74      0.84      0.79      1307\n",
      "\n",
      "                                                                        accuracy                           0.80     12308\n",
      "                                                                       macro avg       0.78      0.75      0.76     12308\n",
      "                                                                    weighted avg       0.80      0.80      0.80     12308\n",
      "\n"
     ]
    }
   ],
   "source": [
    "from sklearn.metrics import classification_report\n",
    "\n",
    "test_preds = lr.predict(X_test_transformed)\n",
    "print(classification_report(y_test, test_preds))"
   ]
  },
  {
   "cell_type": "code",
   "execution_count": null,
   "metadata": {},
   "outputs": [],
   "source": []
  }
 ],
 "metadata": {
  "kernelspec": {
   "display_name": "Python 3",
   "language": "python",
   "name": "python3"
  },
  "language_info": {
   "codemirror_mode": {
    "name": "ipython",
    "version": 3
   },
   "file_extension": ".py",
   "mimetype": "text/x-python",
   "name": "python",
   "nbconvert_exporter": "python",
   "pygments_lexer": "ipython3",
   "version": "3.8.5"
  }
 },
 "nbformat": 4,
 "nbformat_minor": 4
}
